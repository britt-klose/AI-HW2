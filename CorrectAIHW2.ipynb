{
  "nbformat": 4,
  "nbformat_minor": 0,
  "metadata": {
    "colab": {
      "provenance": [],
      "include_colab_link": true
    },
    "kernelspec": {
      "name": "python3",
      "display_name": "Python 3"
    },
    "language_info": {
      "name": "python"
    }
  },
  "cells": [
    {
      "cell_type": "markdown",
      "metadata": {
        "id": "view-in-github",
        "colab_type": "text"
      },
      "source": [
        "<a href=\"https://colab.research.google.com/github/britt-klose/AI-HW2/blob/main/CorrectAIHW2.ipynb\" target=\"_parent\"><img src=\"https://colab.research.google.com/assets/colab-badge.svg\" alt=\"Open In Colab\"/></a>"
      ]
    },
    {
      "cell_type": "markdown",
      "source": [
        "You have two jugs of water, a 5 litre jog and a 3 litre jug. You can fill and empty the jugs as much as you want. How can you get exactly 4 litres into the 5 litre jug?\n",
        "\n",
        "1. Fill the large jug (5,0)\n",
        "2. Fill the small jug with water from the large jug (2,3)\n",
        "3. Empty the small jug (2,0)\n",
        "4. Pour the remaining 2 litres from the large jug into the small jug. (0,2)\n",
        "5. Refill the large jug(5, 2)\n",
        "6. Pour 1 litre from the large jug into the small jug. (4, 3)"
      ],
      "metadata": {
        "id": "-S6om6gBN6_L"
      }
    },
    {
      "cell_type": "markdown",
      "source": [
        "Create the appropriate state space representation and write the rules for this problem.Your rules should guard against illegal states.\n",
        "Your main should be a sequence of rule applications starting from the start state and ending in the goal state\n"
      ],
      "metadata": {
        "id": "k5hBSidNNBoz"
      }
    },
    {
      "cell_type": "markdown",
      "source": [
        "Rules:\n",
        "1. Can fill small jug with large jug\n",
        "2. Can dump water out of a jug when it's full\n",
        "3. Can dump remainder of water from large jug into the small jug\n"
      ],
      "metadata": {
        "id": "fgOVXxrLQBTm"
      }
    },
    {
      "cell_type": "code",
      "source": [
        "class WaterJugPuzzle():\n",
        "  #Initial state (0,0) both jugs are empty\n",
        "  def __init__(self):\n",
        "    self.current_state =[0,0]\n",
        "\n",
        "  def fill_large(self):\n",
        "      self.current_state[0]=5\n",
        "\n",
        "  def fill_small(self):#won't be using this in theory\n",
        "      self.current_state[1]=3\n",
        "\n",
        "\n",
        "#############################################################################################\n",
        "# Rule 1: Can fill small jug with large jug\n",
        "#& Rule 3: Can dump remainder of water from large jug into the small jug\n",
        "#############################################################################################\n",
        "  def R1_large_pour_small(self):\n",
        "      small_space= 3 - self.current_state[1]\n",
        "      if self.current_state[0]>= small_space:\n",
        "        self.current_state[0]-=small_space\n",
        "        self.current_state[1]=3\n",
        "      else:\n",
        "        self.current_state[1]+=self.current_state[0]\n",
        "        self.current_state[0]=0\n",
        "\n",
        "\n",
        "#############################################################################################\n",
        "# Rule 2: Can dump water out of a jug when it's full\n",
        "#############################################################################################\n",
        "  def R2_empty_small(self):\n",
        "            self.current_state[1]=0\n",
        "\n",
        "  def R2_empty_large(self):\n",
        "            self.current_state[0]=0\n",
        "\n",
        "#############################################################################################\n",
        "# Display Results\n",
        "#############################################################################################\n",
        "  def print_current_state(self):\n",
        "    print(f\"current_state: {self.current_state[0]}, {self.current_state[1]}\")\n",
        "\n",
        "#Solution to water jug puzzel\n",
        "\n",
        "wjp = WaterJugPuzzle()\n",
        "# print initial state\n",
        "wjp.print_current_state() #(0,0)\n",
        "\n",
        "print(\"--------------------------\")\n",
        "wjp.fill_large() #(5,0)\n",
        "wjp.print_current_state()\n",
        "\n",
        "print(\"--------------------------\")\n",
        "wjp.R1_large_pour_small() #(2,3)\n",
        "wjp.print_current_state()\n",
        "\n",
        "print(\"--------------------------\")\n",
        "wjp.R2_empty_small() #(2,0)\n",
        "wjp.print_current_state()\n",
        "\n",
        "print(\"--------------------------\")\n",
        "wjp.R1_large_pour_small() #(0,2)\n",
        "wjp.print_current_state()\n",
        "\n",
        "print(\"--------------------------\")\n",
        "wjp.fill_large() #(5,2)\n",
        "wjp.print_current_state()\n",
        "\n",
        "print(\"--------------------------\")\n",
        "wjp.R1_large_pour_small() #(4,3)\n",
        "wjp.print_current_state()\n",
        "\n",
        "\n"
      ],
      "metadata": {
        "colab": {
          "base_uri": "https://localhost:8080/"
        },
        "id": "VDuCDq1nNHoW",
        "outputId": "9c104d27-3b7e-4d01-be2f-e95c84f27008"
      },
      "execution_count": 10,
      "outputs": [
        {
          "output_type": "stream",
          "name": "stdout",
          "text": [
            "current_state: 0, 0\n",
            "--------------------------\n",
            "current_state: 5, 0\n",
            "--------------------------\n",
            "current_state: 2, 3\n",
            "--------------------------\n",
            "current_state: 2, 0\n",
            "--------------------------\n",
            "current_state: 0, 2\n",
            "--------------------------\n",
            "current_state: 5, 2\n",
            "--------------------------\n",
            "current_state: 4, 3\n"
          ]
        }
      ]
    },
    {
      "cell_type": "markdown",
      "source": [],
      "metadata": {
        "id": "Tr3yEh77M_wY"
      }
    }
  ]
}
